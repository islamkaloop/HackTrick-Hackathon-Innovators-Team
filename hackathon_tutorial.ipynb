{
  "cells": [
    {
      "cell_type": "markdown",
      "metadata": {
        "id": "DCLyD1xhb9X2"
      },
      "source": [
        "# How to test and visualise your agents.\n",
        "\n",
        "---\n",
        "\n"
      ]
    },
    {
      "cell_type": "markdown",
      "metadata": {},
      "source": [
        "### Innovators Team:\n",
        " 1- Islam Mesabah \\\n",
        " 2- Ali Tarek \\\n",
        " 3- Maher Mohamed \\\n",
        " 4- Zyad Tahoom "
      ]
    },
    {
      "cell_type": "markdown",
      "metadata": {
        "id": "XCClqutxV1Xq"
      },
      "source": [
        "## Imports\n",
        "\n",
        "\n",
        "\n"
      ]
    },
    {
      "cell_type": "code",
      "execution_count": 1,
      "metadata": {
        "id": "jKsFs6UfDWJG"
      },
      "outputs": [
        {
          "name": "stderr",
          "output_type": "stream",
          "text": [
            "/home/innovator/Documents/hacktrick-hackathon-2022/venv/lib/python3.8/site-packages/gym/envs/registration.py:595: UserWarning: \u001b[33mWARN: Overriding environment Hacktrick-v0\u001b[0m\n",
            "  logger.warn(f\"Overriding environment {id}\")\n"
          ]
        }
      ],
      "source": [
        "from hacktrick_ai.src.hacktrick_ai_py.agents.benchmarking import AgentEvaluator, LayoutGenerator\n",
        "from hacktrick_ai.src.hacktrick_ai_py.visualization.state_visualizer import StateVisualizer\n",
        "from hacktrick_ai_py.agents.agent import AgentPair, StayAgent"
      ]
    },
    {
      "cell_type": "markdown",
      "metadata": {
        "id": "IM5MAxKLWEDa"
      },
      "source": [
        "## How to Run\n",
        "\n",
        "1. Set game mode to either single or collaborative.\n",
        "2. Set timesteps (We will be evaluating on 1200 timesteps).\n",
        "3. Set layout name.\n",
        "4. Create a HacktrickAgent instance, it will automatically include your algorith or RL agent if used from the `hacktrick_agent.py` file.\n",
        "5. Call run_agent() and pass the required parameters.\n",
        "6. run_agent() will return the trajectories of the played game.\n",
        "7. Call visualize() and pass the trajectories returned from running the agent to graphically view the game.\n",
        "\n",
        "(basically just run the notebook ;))"
      ]
    },
    {
      "cell_type": "code",
      "execution_count": 2,
      "metadata": {
        "id": "6bJJmpl_EsZU"
      },
      "outputs": [],
      "source": [
        "def run_agent(mode, timesteps, layout_name, hacktrick_agent):\n",
        "  hacktrick_agent.set_mode(mode)\n",
        "  if mode == 'collaborative':\n",
        "    agent0 = hacktrick_agent.agent0\n",
        "    agent1 = hacktrick_agent.agent1\n",
        "    agent = AgentPair(agent0, agent1)\n",
        "  elif mode == 'single':\n",
        "    agent0 = hacktrick_agent.agent0\n",
        "    agent1 = StayAgent()\n",
        "    agent = AgentPair(agent0, agent1)\n",
        "  mdp_gen_params = {\"layout_name\": layout_name}\n",
        "  mdp_fn = LayoutGenerator.mdp_gen_fn_from_dict(mdp_gen_params)\n",
        "  env_params = {\"horizon\": timesteps}\n",
        "  agent_eval = AgentEvaluator(env_params=env_params, mdp_fn=mdp_fn)\n",
        "  trajectories = agent_eval.evaluate_agent_pair(agent, num_games=1)\n",
        "  return trajectories"
      ]
    },
    {
      "cell_type": "code",
      "execution_count": 3,
      "metadata": {
        "id": "WGYCS4fsQgk4"
      },
      "outputs": [
        {
          "name": "stderr",
          "output_type": "stream",
          "text": [
            "Avg rew: 1330.00 (std: 0.00, se: 0.00); avg len: 1200.00; : 100%|██████████| 1/1 [00:00<00:00,  1.10it/s]"
          ]
        },
        {
          "name": "stdout",
          "output_type": "stream",
          "text": [
            "Skipping trajectory consistency checking because MDP was recognized as variable. Trajectory consistency checking is not yet supported for variable MDPs.\n"
          ]
        },
        {
          "name": "stderr",
          "output_type": "stream",
          "text": [
            "\n"
          ]
        }
      ],
      "source": [
        "# Parameters to be changed\n",
        "\n",
        "# mode = 'single'\n",
        "# from Agents.single.leaderboard_single imporround_of_16_collaborativet HacktrickAgent\n",
        "# layout_name = 'leaderboard_single'\n",
        "# from Agents.single.round_of_16_single import HacktrickAgent\n",
        "# layout_name = 'round_of_16_single'\n",
        "# from Agents.single.quarter_final_single import HacktrickAgent\n",
        "# layout_name = 'quarter_final_single'\n",
        "# from Agents.single.semi_final_single import HacktrickAgent\n",
        "# layout_name = 'semi_final_single'\n",
        "# from Agents.single.final_single import HacktrickAgent\n",
        "# layout_name = 'final_single'\n",
        "\n",
        "mode = 'collaborative'\n",
        "# from Agents.collaborative.leaderboard_collaborative import HacktrickAgent\n",
        "# layout_name = 'leaderboard_collaborative'\n",
        "# from Agents.collaborative.round_of_16_collaborative import HacktrickAgent\n",
        "# layout_name = 'round_of_16_collaborative'\n",
        "# from Agents.collaborative.quarter_final_collaborative import HacktrickAgent\n",
        "# layout_name = 'quarter_final_collaborative'\n",
        "# from Agents.collaborative.semi_final_collaborative import HacktrickAgent\n",
        "# layout_name = 'semi_final_collaborative'\n",
        "from Agents.collaborative.final_collaborative import HacktrickAgent\n",
        "layout_name = 'final_collaborative'\n",
        "\n",
        "timesteps = 1200\n",
        "\n",
        "agent = HacktrickAgent()\n",
        "trajectories = run_agent(mode, timesteps, layout_name, agent)"
      ]
    },
    {
      "cell_type": "code",
      "execution_count": 4,
      "metadata": {
        "id": "CfmIXTEYJc_M"
      },
      "outputs": [],
      "source": [
        "def visualize(trajectories):\n",
        "  img_dir_path = StateVisualizer().display_rendered_trajectory(trajectories, trajectory_idx=0, ipython_display=True)"
      ]
    },
    {
      "cell_type": "code",
      "execution_count": 5,
      "metadata": {
        "id": "UFaj9yXPVfuN"
      },
      "outputs": [
        {
          "data": {
            "application/vnd.jupyter.widget-view+json": {
              "model_id": "e482f14607d84f99bc752fc43f612946",
              "version_major": 2,
              "version_minor": 0
            },
            "text/plain": [
              "interactive(children=(IntSlider(value=0, description='timestep', max=1199), Output()), _dom_classes=('widget-i…"
            ]
          },
          "metadata": {},
          "output_type": "display_data"
        }
      ],
      "source": [
        "visualize(trajectories)"
      ]
    }
  ],
  "metadata": {
    "colab": {
      "collapsed_sections": [],
      "name": "hackathon-tutorial.ipynb",
      "provenance": []
    },
    "kernelspec": {
      "display_name": "Python 3",
      "name": "python3"
    },
    "language_info": {
      "codemirror_mode": {
        "name": "ipython",
        "version": 3
      },
      "file_extension": ".py",
      "mimetype": "text/x-python",
      "name": "python",
      "nbconvert_exporter": "python",
      "pygments_lexer": "ipython3",
      "version": "3.8.10"
    }
  },
  "nbformat": 4,
  "nbformat_minor": 0
}
